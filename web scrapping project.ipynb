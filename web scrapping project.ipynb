{
 "cells": [
  {
   "cell_type": "code",
   "execution_count": 2,
   "metadata": {},
   "outputs": [],
   "source": [
    "from bs4 import BeautifulSoup\n",
    "import requests \n",
    "from csv import writer"
   ]
  },
  {
   "cell_type": "code",
   "execution_count": 22,
   "metadata": {},
   "outputs": [
    {
     "name": "stdout",
     "output_type": "stream",
     "text": [
      "['', 'GIGABYTE GeForce RTX 3090 GAMING OC 24G Video Card, GV-N3090GAMING OC-24GD', '$1,999.99\\xa0–', '$9.99 Shipping']\n",
      "['', 'GIGABYTE Radeon RX 6900 XT GAMING OC Video Card, GV-R69XTGAMING OC-16GD', '$1,099.99\\xa0–', 'Free Shipping']\n",
      "['', 'ASUS ROG Strix GeForce RTX 3050 8GB GDDR6 PCI Express 4.0 Video Card ROG-STRIX-RTX3050-O8G-GAMING', '$429.99\\xa0(7 Offers)–', 'Free Shipping']\n",
      "['', 'GIGABYTE GeForce RTX 3050 GAMING OC 8G Graphics Card, 3x WINDFORCE Fans, 8GB GDDR6 128-bit GDDR6, GV-N3050GAMING OC-8GD Video Card', '$379.99\\xa0(15 Offers)–', '$9.99 Shipping']\n",
      "['', 'GIGABYTE GAMING OC Radeon RX 6500 XT 4GB GDDR6 PCI Express 4.0 ATX Video Card GV-R65XTGAMING OC-4GD', '$239.99\\xa0(12 Offers)–', 'Free Shipping']\n",
      "['', 'ASRock OC Formula Radeon RX 6900 XT 16GB GDDR6 PCI Express 4.0 ATX Video Card RX6900XT OCF 16G', '$1,149.99\\xa0–', 'Free Shipping']\n",
      "['', 'GIGABYTE Radeon RX 6700 XT GAMING OC 12G Graphics Card, WINDFORCE 3X Cooling System, 12GB 192-bit GDDR6, GV-R67XTGAMING OC-12GD Video Card', '$599.99\\xa0–', 'Free Shipping']\n",
      "['', 'MSI Gaming Radeon RX 6700 XT 12GB GDDR6 PCI Express 4.0 Video Card RX 6700 XT GAMING X 12G', '$589.99\\xa0–', 'Free Shipping']\n",
      "['', 'XFX SPEEDSTER SWFT210 Radeon RX 6600 XT 8GB GDDR6 PCI Express 4.0 Core Gaming Graphics Card, AMD RDNA 2 RX-66XT8DFDQ', '$429.99\\xa0(3 Offers)–', 'Free Shipping']\n",
      "['', 'MSI Ventus GeForce RTX 3050 8GB GDDR6 PCI Express 4.0 Video Card RTX 3050 Ventus 2X 8G OC', '$329.99\\xa0(13 Offers)–', 'Free Shipping']\n",
      "['', 'MSI Ventus GeForce RTX 3060 Ti 8GB GDDR6 PCI Express 4.0 Video Card RTX 3060 Ti VENTUS 2X 8G OCV1 LHR', '$579.99\\xa0–', 'Free Shipping']\n",
      "['', 'GIGABYTE Gaming OC PRO GeForce RTX 3060 Ti 8GB GDDR6 PCI Express 4.0 ATX Video Card GV-N306TGAMINGOC PRO-8GD (rev. 3.0) (LHR)', '$599.99\\xa0–', 'Free Shipping']\n",
      "['', 'ASRock Radeon RX 6600 8GB PCI Express 4.0 Video Card RX6600 CLD 8G', '$335.99\\xa0–', 'Free Shipping']\n",
      "['', 'GIGABYTE Gaming OC GeForce RTX 3070 8GB GDDR6 PCI Express 4.0 ATX Video Card GV-N3070GAMING OC-8GD (rev. 2.0) (LHR)', '$729.99\\xa0–', 'Free Shipping']\n",
      "['', 'ASRock Radeon RX 6700 XT Challenger D Gaming Graphic Card, 12GB GDDR6 VRAM, AMD RDNA2 (RX6700XT CLD 12G)', '$528.99\\xa0–', 'Free Shipping']\n",
      "['', 'MSI Mech Radeon RX 6600 8GB PCI Express 4.0 Video Card RX 6600 MECH 2X 8G', '$339.99\\xa0(5 Offers)–', 'Free Shipping']\n",
      "['', 'MSI Gaming GeForce RTX 3070 Ti 8GB GDDR6X PCI Express 4.0 Video Card RTX 3070 Ti Gaming X Trio 8G', '$809.99\\xa0–', 'Free Shipping']\n",
      "['', 'GIGABYTE Eagle GeForce RTX 3080 Ti 12GB GDDR6X PCI Express 4.0 ATX Video Card GV-N308TEAGLE OC-12GD', '$1,429.99\\xa0–', 'Free Shipping']\n",
      "['', 'GIGABYTE Gaming OC GeForce RTX 3080 10GB GDDR6X PCI Express 4.0 ATX Video Card GV-N3080GAMING OC-10GD (rev. 2.0) (LHR)', '$949.99\\xa0–', 'Free Shipping']\n",
      "['', 'GIGABYTE AORUS GeForce RTX 3060 ELITE 12GB GDDR6 PCI Express 4.0 ATX Video Card GV-N3060AORUS E-12GD (rev. 2.0) (LHR)', '$519.99\\xa0–', 'Free Shipping']\n",
      "['', 'Yeston Radeon RX6700XT 12GB D6 GDDR6 192bit 7nm Desktop computer PC Video Graphics Cards support PCI-Express 4.0 3*DP+1*HDMI-compatible   RGB light effect Fragrant graphics card', '$769.00\\xa0–', 'Free Shipping']\n",
      "['', 'EVGA GeForce RTX 3090 Ti FTW3 ULTRA GAMING, 24G-P5-4985-KR, 24GB GDDR6X, iCX3 Technology, ARGB LED, Metal Backplate, Includes eLeash', '$2,199.99\\xa0–', '$9.99 Shipping']\n",
      "['', 'Sapphire NITRO+ AMD RADEON RX 6900 XT SE GAMING OC Graphics Card With 16GB GDDR6 HDMI / TRIPLE DP', '$1,079.00\\xa0–', '$9.99 Shipping']\n",
      "['', 'GIGABYTE Vision OC GeForce RTX 3060 12GB GDDR6 PCI Express 4.0 ATX Video Card GV-N3060VISION OC-12GD (rev. 2.0) (LHR)', '$499.99\\xa0–', '$9.99 Shipping']\n",
      "['', 'SAPPHIRE Toxic Radeon RX 6900 XT 16GB GDDR6 PCI Express 4.0 ATX Video Card 11308-13-20G', '$1,189.00\\xa0–', 'Free Shipping']\n",
      "['', 'SAPPHIRE PULSE AMD Radeon RX 6800 XT Gaming Graphics Card with 16GB GDDR6, AMD RDNA 2 (SKU#11304-03-20G)', '$859.00\\xa0–', '$9.99 Shipping']\n",
      "['', 'ASRock Challenger Radeon RX 6400 4GB GDDR6 PCI Express 4.0 ITX Video Card RX6400 CLI 4G', '$169.99\\xa0–', 'Free Shipping']\n",
      "['', 'GIGABYTE Gaming GeForce RTX 3090 Ti 24GB GDDR6X PCI Express 4.0 ATX Video Card GV-N309TGAMING-24GD', '$1,999.99\\xa0–', 'Free Shipping']\n",
      "['', 'MSI Gaming GeForce RTX 3090 24GB GDDR6X PCI Express 4.0 SLI Support Video Card RTX 3090 GAMING X TRIO 24G', '$1,679.99\\xa0–', 'Free Shipping']\n",
      "['', 'MSI Gaming GeForce RTX 3060 Ti 8GB GDDR6 PCI Express 4.0 Video Card RTX 3060 Ti Gaming X 8G LHR', '$589.99\\xa0–', '$9.99 Shipping']\n",
      "['', 'ZOTAC GAMING GeForce RTX 3070 Ti Trinity OC 8GB GDDR6X 256-bit 19 Gbps PCIE 4.0 Gaming Graphics Card, IceStorm 2.0 Advanced Cooling, SPECTRA 2.0 RGB Lighting, ZT-A30710J-10P', '$769.99\\xa0–', 'Free Shipping']\n",
      "['', 'MSI Ventus GeForce RTX 3080 10GB GDDR6X PCI Express 4.0 Video Card RTX 3080 VENTUS 3X PLUS 10G OC LHR', '$999.00\\xa0–', 'Free Shipping']\n",
      "['', 'MSI Gaming Radeon RX 6900 XT 16GB GDDR6 PCI Express 4.0 Video Card RX 6900 XT Gaming X Trio 16G', '$1,069.99\\xa0–', '$9.99 Shipping']\n",
      "['', 'ASUS Dual GeForce RTX 3050 8GB GDDR6 PCI Express 4.0 Video Card DUAL-RTX3050-O8G', '$379.99\\xa0(20 Offers)–', 'Free Shipping']\n",
      "['', 'ASUS ROG Strix GeForce RTX 3070 Ti 8GB GDDR6X PCI Express 4.0 Video Card ROG-STRIX-RTX3070TI-O8G-GAMING', '$899.99\\xa0–', 'Free Shipping']\n",
      "['', 'ASUS GeForce RTX 2060 Overclocked 6G GDDR6 Dual-Fan EVO Edition VR Ready HDMI DisplayPort DVI Graphics Card (DUAL-RTX2060-O6G-EVO)', '$389.99\\xa0(16 Offers)–', 'Free Shipping']\n"
     ]
    }
   ],
   "source": [
    "url = 'https://www.newegg.com/Desktop-Graphics-Cards/SubCategory/ID-48?Tid=7709'\n",
    "headers = {\"User-Agent\": \"Mozilla/5.0 (Windows NT 10.0; Win64; x64) AppleWebKit/537.36 (KHTML, like Gecko) Chrome/100.0.4896.127 Safari/537.36\"}\n",
    "\n",
    "page = requests.get(url, headers=headers)\n",
    "\n",
    "soup1 = BeautifulSoup(page.content, 'html.parser')\n",
    "soup2 = BeautifulSoup(soup1.prettify(), 'html.parser')\n",
    "\n",
    "lists = soup.find_all('div', class_='item-container')\n",
    "\n",
    "for list in lists:\n",
    "    brand = list.find('a', class_='item-brand').get_text()\n",
    "    title = list.find('a', class_='item-title').get_text()\n",
    "    price = list.find('li', class_='price-current').get_text()\n",
    "    shipping = list.find('li', class_='price-ship').get_text()\n",
    "    \n",
    "    info=[brand, title, price, shipping]\n",
    "    print(info)\n",
    "\n"
   ]
  },
  {
   "cell_type": "code",
   "execution_count": null,
   "metadata": {},
   "outputs": [],
   "source": []
  }
 ],
 "metadata": {
  "kernelspec": {
   "display_name": "Python 3",
   "language": "python",
   "name": "python3"
  },
  "language_info": {
   "codemirror_mode": {
    "name": "ipython",
    "version": 3
   },
   "file_extension": ".py",
   "mimetype": "text/x-python",
   "name": "python",
   "nbconvert_exporter": "python",
   "pygments_lexer": "ipython3",
   "version": "3.7.6"
  }
 },
 "nbformat": 4,
 "nbformat_minor": 4
}
